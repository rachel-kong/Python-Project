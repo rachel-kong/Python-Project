{
  "nbformat": 4,
  "nbformat_minor": 0,
  "metadata": {
    "colab": {
      "name": "Python Jupyter Mini Project",
      "provenance": []
    },
    "kernelspec": {
      "name": "python3",
      "display_name": "Python 3"
    },
    "language_info": {
      "name": "python"
    }
  },
  "cells": [
    {
      "cell_type": "markdown",
      "source": [
        "**Greenhouse Gas Emissions from Australian Regions**"
      ],
      "metadata": {
        "id": "9hStKmBcnX1m"
      }
    },
    {
      "cell_type": "code",
      "source": [
        "#import libraries#\n",
        "import numpy as np \n",
        "import pandas as pd \n",
        "import matplotlib as mpl\n",
        "import matplotlib.pyplot as plt"
      ],
      "metadata": {
        "id": "kdqFVWrJnqYc"
      },
      "execution_count": 51,
      "outputs": []
    },
    {
      "cell_type": "code",
      "source": [
        "#data frame#\n",
        "df = pd.read_csv('/content/Greenhouse-gas-emissions-by-region-industry-and-household-Year-ended-2019-csv.csv')\n",
        "df.head()\n",
        "region = df[\"region\"] #defined region#\n",
        "np.unique(region) #lists out all the different regions in the csv files#\n"
      ],
      "metadata": {
        "id": "XrNHKhnwGVrG"
      },
      "execution_count": null,
      "outputs": []
    },
    {
      "cell_type": "code",
      "source": [
        "#defined Auckland and gathered the greenhouse gas emissions values from Auckland#\n",
        "Auckland = df[region == \"Auckland\"]\n",
        "A = Auckland[['region', 'data_val']]\n",
        "data_val = df[\"data_val\"]\n",
        "A\n",
        "#prints out the first 5 and last 5 data_vals#"
      ],
      "metadata": {
        "id": "Iy2lW1sY0u84"
      },
      "execution_count": null,
      "outputs": []
    },
    {
      "cell_type": "code",
      "source": [
        "#defined Bay of Plenty and got data values from Bay of Plenty#\n",
        "BayofPlenty = df[region == \"Bay of Plenty\"]\n",
        "B = BayofPlenty[['region', 'data_val']]\n",
        "data_val = df[\"data_val\"]\n",
        "B"
      ],
      "metadata": {
        "id": "noWjWVyioa1C"
      },
      "execution_count": null,
      "outputs": []
    },
    {
      "cell_type": "code",
      "source": [
        "#defined Canterbury and got data values from Canterbury#\n",
        "Canterbury = df[region == \"Canterbury\"]\n",
        "C = Canterbury[['region', 'data_val']]\n",
        "data_val = df[\"data_val\"]\n",
        "C"
      ],
      "metadata": {
        "id": "n4S0iUzRrViF"
      },
      "execution_count": null,
      "outputs": []
    },
    {
      "cell_type": "code",
      "source": [
        "#graphics#\n",
        "%matplotlib inline\n",
        "plt.style.use(\"classic\")"
      ],
      "metadata": {
        "id": "rj6nLfjSX2nl"
      },
      "execution_count": 68,
      "outputs": []
    },
    {
      "cell_type": "code",
      "source": [
        "#used the first 3 values rounded to the nearest whole number displayed on the data_val list#\n",
        "Auckland=np.random.randint(44, 46, 46)\n",
        "BayofPlenty=np.random.randint(105, 114, 118)\n",
        "Canterbury=np.random.randint(169, 179, 197)"
      ],
      "metadata": {
        "id": "OcDYKRFLX9pK"
      },
      "execution_count": 45,
      "outputs": []
    },
    {
      "cell_type": "code",
      "source": [
        "#listed the regions#\n",
        "Regions=list(\"Auckland, Bay of Plenty, Canterbury\")"
      ],
      "metadata": {
        "id": "15s_Z-P_yY_h"
      },
      "execution_count": 63,
      "outputs": []
    },
    {
      "cell_type": "code",
      "source": [
        "#plot the data#\n",
        "plt.plot(Regions, Auckland, label=\"Auckland\")\n",
        "plt.plot(Regions, BayofPlenty, label=\"Bay of Plenty\")\n",
        "plt.plot(Regions, Canterbury, label=\"Canterbury\")\n",
        "#plot the graph labels#\n",
        "plt.legend()\n",
        "plt.title(\"Average Greenhouse Gas Emissions in Australian Regions\")\n",
        "plt.xlabel(\"Regions\")\n",
        "plt.ylabel(\"Averages\")\n",
        "plt.show()"
      ],
      "metadata": {
        "id": "qtGrSDLUzMCw"
      },
      "execution_count": null,
      "outputs": []
    }
  ]
}